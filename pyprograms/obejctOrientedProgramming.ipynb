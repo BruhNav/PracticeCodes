{
 "cells": [
  {
   "cell_type": "code",
   "execution_count": 1,
   "metadata": {},
   "outputs": [
    {
     "name": "stdout",
     "output_type": "stream",
     "text": [
      "<__main__.Employee object at 0x00000210D72E3F40>\n",
      "<__main__.Employee object at 0x00000210D72E3370>\n"
     ]
    }
   ],
   "source": [
    "class Employee:\n",
    "    pass\n",
    "emp_1 = Employee()\n",
    "emp_2 = Employee()\n",
    "\n",
    "print(emp_1)\n",
    "print(emp_2) "
   ]
  },
  {
   "cell_type": "markdown",
   "metadata": {},
   "source": [
    "using INIT"
   ]
  },
  {
   "cell_type": "code",
   "execution_count": 8,
   "metadata": {},
   "outputs": [
    {
     "name": "stdout",
     "output_type": "stream",
     "text": [
      "pranav pranav.jaiswal@company.com\n",
      "user user.test@company.com\n",
      "pranav jaiswal\n",
      "user test\n"
     ]
    }
   ],
   "source": [
    "class Employee:\n",
    "    def __init__(self,first,last,pay):\n",
    "\n",
    "        self.first=first\n",
    "        self.last=last\n",
    "        self.pay=pay\n",
    "        self.email=first + '.' + last + '@company.com'\n",
    "\n",
    "    def fullName(self):\n",
    "        return \"{} {}\".format(self.first,self.last)\n",
    "\n",
    "\n",
    "\n",
    "empl1 = Employee('pranav','jaiswal',5000)\n",
    "empl2 = Employee('user','test',6000)\n",
    "\n",
    "print(empl1.first,empl1.email)\n",
    "print(empl2.first,empl2.email)\n",
    "\n",
    "print(empl1.fullName())\n",
    "print(empl2.fullName())\n",
    "        "
   ]
  },
  {
   "cell_type": "code",
   "execution_count": null,
   "metadata": {},
   "outputs": [],
   "source": []
  }
 ],
 "metadata": {
  "interpreter": {
   "hash": "0cc6cd3f10177bfac7cadd97e3a5fd990d19714a7e44a898229823c5d538e102"
  },
  "kernelspec": {
   "display_name": "Python 3.9.6 64-bit",
   "name": "python3"
  },
  "language_info": {
   "codemirror_mode": {
    "name": "ipython",
    "version": 3
   },
   "file_extension": ".py",
   "mimetype": "text/x-python",
   "name": "python",
   "nbconvert_exporter": "python",
   "pygments_lexer": "ipython3",
   "version": "3.9.6"
  },
  "orig_nbformat": 4
 },
 "nbformat": 4,
 "nbformat_minor": 2
}
