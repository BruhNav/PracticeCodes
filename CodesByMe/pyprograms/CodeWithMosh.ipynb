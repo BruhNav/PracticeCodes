{
 "cells": [
  {
   "cell_type": "code",
   "execution_count": 1,
   "source": [
    "first='pranav'\r\n",
    "last = 'jaiswal'\r\n",
    "msg = f'{first}[{last}] is a heavy driver'\r\n",
    "print(msg)"
   ],
   "outputs": [
    {
     "output_type": "stream",
     "name": "stdout",
     "text": [
      "pranav[jaiswal] is a heavy driver\n"
     ]
    }
   ],
   "metadata": {}
  },
  {
   "cell_type": "code",
   "execution_count": 16,
   "source": [
    "course = 'Python for Beginners'\r\n",
    "print(len(course))\r\n",
    "print(course.upper())\r\n",
    "print(course)\r\n",
    "\r\n"
   ],
   "outputs": [
    {
     "output_type": "stream",
     "name": "stdout",
     "text": [
      "20\n",
      "PYTHON FOR BEGINNERS\n",
      "Python for Beginners\n"
     ]
    }
   ],
   "metadata": {}
  },
  {
   "cell_type": "code",
   "execution_count": 17,
   "source": [
    "print(course.lower())\r\n"
   ],
   "outputs": [
    {
     "output_type": "stream",
     "name": "stdout",
     "text": [
      "python for beginners\n"
     ]
    }
   ],
   "metadata": {}
  },
  {
   "cell_type": "code",
   "execution_count": 19,
   "source": [
    "print(course.find('Beginners'))"
   ],
   "outputs": [
    {
     "output_type": "stream",
     "name": "stdout",
     "text": [
      "11\n"
     ]
    }
   ],
   "metadata": {}
  },
  {
   "cell_type": "code",
   "execution_count": 20,
   "source": [
    "print(course.replace('Beginners', 'Absoulute Beginners'))\r\n"
   ],
   "outputs": [
    {
     "output_type": "stream",
     "name": "stdout",
     "text": [
      "Python for Absoulute Beginners\n"
     ]
    }
   ],
   "metadata": {}
  },
  {
   "cell_type": "code",
   "execution_count": 21,
   "source": [
    "print('Python' in course)"
   ],
   "outputs": [
    {
     "output_type": "stream",
     "name": "stdout",
     "text": [
      "True\n"
     ]
    }
   ],
   "metadata": {}
  },
  {
   "cell_type": "code",
   "execution_count": 22,
   "source": [
    "print('python' in course)"
   ],
   "outputs": [
    {
     "output_type": "stream",
     "name": "stdout",
     "text": [
      "False\n"
     ]
    }
   ],
   "metadata": {}
  },
  {
   "cell_type": "code",
   "execution_count": 23,
   "source": [
    "print(10/3)\r\n",
    "print(10//3)"
   ],
   "outputs": [
    {
     "output_type": "stream",
     "name": "stdout",
     "text": [
      "3.3333333333333335\n",
      "3\n"
     ]
    }
   ],
   "metadata": {}
  },
  {
   "cell_type": "code",
   "execution_count": 24,
   "source": [
    "print(10*3)\r\n",
    "print(10**3)"
   ],
   "outputs": [
    {
     "output_type": "stream",
     "name": "stdout",
     "text": [
      "30\n",
      "1000\n"
     ]
    }
   ],
   "metadata": {}
  },
  {
   "cell_type": "code",
   "execution_count": 25,
   "source": [
    "x=2.9\r\n",
    "\r\n",
    "print(round(x))"
   ],
   "outputs": [
    {
     "output_type": "stream",
     "name": "stdout",
     "text": [
      "3\n"
     ]
    }
   ],
   "metadata": {}
  },
  {
   "cell_type": "code",
   "execution_count": 26,
   "source": [
    "print(abs(-x))"
   ],
   "outputs": [
    {
     "output_type": "stream",
     "name": "stdout",
     "text": [
      "2.9\n"
     ]
    }
   ],
   "metadata": {}
  },
  {
   "cell_type": "code",
   "execution_count": 27,
   "source": [
    "import math\n",
    "print(math.ceil(2.9))\n",
    "print(math.floor(2.9))"
   ],
   "outputs": [
    {
     "output_type": "stream",
     "name": "stdout",
     "text": [
      "3\n",
      "2\n"
     ]
    }
   ],
   "metadata": {}
  },
  {
   "cell_type": "code",
   "execution_count": 43,
   "source": [
    "###if else statments\n",
    "\n",
    "is_hot = False\n",
    "\n",
    "if is_hot:\n",
    "     print(\"It's a hot day\")\n",
    "     print(\"Drink pleanty of water\")\n",
    "else:\n",
    "    print(\"its a cold day \")\n",
    "    print(\"wear warm clothes\")\n"
   ],
   "outputs": [
    {
     "output_type": "stream",
     "name": "stdout",
     "text": [
      "its a cold day \n",
      "wear warm clothes\n"
     ]
    }
   ],
   "metadata": {}
  },
  {
   "cell_type": "code",
   "execution_count": 31,
   "source": [
    "is_hot = False\n",
    "\n",
    "if is_hot:\n",
    "     print(\"It's a hot day\")\n",
    "     print(\"Drink plenty of water\")\n",
    "print(\"Enjoy your day\")"
   ],
   "outputs": [
    {
     "output_type": "stream",
     "name": "stdout",
     "text": [
      "Enjoy your day\n"
     ]
    }
   ],
   "metadata": {}
  },
  {
   "cell_type": "code",
   "execution_count": 34,
   "source": [
    "is_hot = False\n",
    "is_cold = True\n",
    "\n",
    "if is_hot:\n",
    "     print(\"It's a hot day\")\n",
    "     print(\"Drink pleanty of water\")\n",
    "elif is_cold:\n",
    "    print(\"its a cold day \")\n",
    "    print(\"wear warm clothes\")\n",
    "else: \n",
    "    print(\"its a lovely day\")\n",
    "\n",
    "print(\"enjoy your day\")\n"
   ],
   "outputs": [
    {
     "output_type": "stream",
     "name": "stdout",
     "text": [
      "its a cold day \n",
      "wear warm clothes\n",
      "enjoy your day\n"
     ]
    }
   ],
   "metadata": {}
  },
  {
   "cell_type": "code",
   "execution_count": 37,
   "source": [
    "price = 1000000\n",
    "has_good_credit = True \n",
    "if has_good_credit :\n",
    "    down_payment = .1 * price\n",
    "else:\n",
    "    down_payment = .2 *price  \n",
    "print(f\"down payment:${down_payment}\")"
   ],
   "outputs": [
    {
     "output_type": "stream",
     "name": "stdout",
     "text": [
      "down payment:$100000.0\n"
     ]
    }
   ],
   "metadata": {}
  },
  {
   "cell_type": "code",
   "execution_count": 38,
   "source": [
    "# and or operators\n",
    "\n",
    "has_high_income = True\n",
    "has_good_credit = True\n",
    "\n",
    "if has_high_income and has_good_credit:\n",
    "    print(\"Eligible for loan\")"
   ],
   "outputs": [
    {
     "output_type": "stream",
     "name": "stdout",
     "text": [
      "Eligible for loan\n"
     ]
    }
   ],
   "metadata": {}
  },
  {
   "cell_type": "code",
   "execution_count": 42,
   "source": [
    "has_high_income = True\n",
    "has_good_credit = True\n",
    "\n",
    "if has_high_income or has_good_credit:\n",
    "    print(\"Eligible for loan\")"
   ],
   "outputs": [
    {
     "output_type": "stream",
     "name": "stdout",
     "text": [
      "Eligible for loan\n"
     ]
    }
   ],
   "metadata": {}
  },
  {
   "cell_type": "code",
   "execution_count": 1,
   "source": [
    "#conditional operators\n",
    "\n",
    "temperature = 30\n",
    "\n",
    "if temperature > 30:\n",
    "    print(\"Its a hot day\")\n",
    "else:\n",
    "    print(\"Its not a hot day\")"
   ],
   "outputs": [
    {
     "output_type": "stream",
     "name": "stdout",
     "text": [
      "Its not a hot day\n"
     ]
    }
   ],
   "metadata": {}
  },
  {
   "cell_type": "code",
   "execution_count": 2,
   "source": [
    "name=\"pranav\"\n",
    "\n",
    "if len(name) < 3:\n",
    "    print(\"the name must be at least 3 characters\")\n",
    "elif len(name)>50:\n",
    "    print(\"the name must be maximum 50 characters\")\n",
    "else :\n",
    "    print(\"the name looks good\")\n"
   ],
   "outputs": [
    {
     "output_type": "stream",
     "name": "stdout",
     "text": [
      "the name looks good\n"
     ]
    }
   ],
   "metadata": {}
  },
  {
   "cell_type": "code",
   "execution_count": 6,
   "source": [
    "#mini project\n",
    "\n",
    "w = float(input(\"Weight: \"))\n",
    "d = input(\"(L)bs or (K)g\")\n",
    "\n",
    "if d == 'L' or d=='l':\n",
    "    w /= 2.2\n",
    "    print(f'{w}kilos')\n",
    "else :\n",
    "    w*= 2.2\n",
    "    print(f'{w} pounds')\n",
    "\n"
   ],
   "outputs": [
    {
     "output_type": "stream",
     "name": "stdout",
     "text": [
      "63.63636363636363kilos\n"
     ]
    }
   ],
   "metadata": {}
  },
  {
   "cell_type": "code",
   "execution_count": 8,
   "source": [
    "#while loops\n",
    "\n",
    "i = 1\n",
    "while i<=5:\n",
    "    print('*' * i)\n",
    "    i=i+1\n",
    "print(\"Done\")"
   ],
   "outputs": [
    {
     "output_type": "stream",
     "name": "stdout",
     "text": [
      "*\n",
      "**\n",
      "***\n",
      "****\n",
      "*****\n",
      "Done\n"
     ]
    }
   ],
   "metadata": {}
  },
  {
   "cell_type": "code",
   "execution_count": 6,
   "source": [
    "secret_number = 9\n",
    "guess_count = 0\n",
    "guess_limit = 3\n",
    "while guess_count < guess_limit:\n",
    "    guess = int(input('Guess: '))\n",
    "    guess_count +=1\n",
    "    if secret_number == guess:\n",
    "        print(\"you guessed it right\")\n",
    "        break\n",
    "else: \n",
    "    print('sorry you failed')\n",
    "    #this part will only execute if the while loop was\n",
    "    #sucessfully completed if the break statement was executed\n",
    "    #this else will not happen\n"
   ],
   "outputs": [
    {
     "output_type": "stream",
     "name": "stdout",
     "text": [
      "you guessed it right\n"
     ]
    }
   ],
   "metadata": {}
  },
  {
   "cell_type": "code",
   "execution_count": 15,
   "source": [
    "command = \"\"\n",
    "status = False\n",
    "\n",
    "while True:\n",
    "    command = input(\"> \").lower()\n",
    "    if command == \"start\" and status == False:\n",
    "        print(\" Car started...\")\n",
    "        status = True\n",
    "    elif command == \"start\":\n",
    "        print(\" Car is already started...\")\n",
    "    elif command == \"stop\" and status == True:\n",
    "        print(\"Car stopped\")\n",
    "        status = False\n",
    "    elif command == \"stop\" :\n",
    "        print(\"Car is already stopped\")\n",
    "    elif command == \"help\":\n",
    "        print('''start - to start the car\n",
    "stop - to stop the car\n",
    "quit - to exit''' )\n",
    "    elif command == \"quit\":\n",
    "        break\n",
    "    else:\n",
    "        print(\"sorry i dont understand that\")\n"
   ],
   "outputs": [
    {
     "output_type": "stream",
     "name": "stdout",
     "text": [
      " Car started...\n",
      "Car stopped\n",
      "Car is already stopped\n",
      " Car started...\n",
      " Car is already started...\n"
     ]
    }
   ],
   "metadata": {}
  },
  {
   "cell_type": "code",
   "execution_count": 17,
   "source": [
    "for item in ['q','t','w','t','d','s']:\n",
    "    print(item)\n"
   ],
   "outputs": [
    {
     "output_type": "stream",
     "name": "stdout",
     "text": [
      "q\n",
      "t\n",
      "w\n",
      "t\n",
      "d\n",
      "s\n"
     ]
    }
   ],
   "metadata": {}
  },
  {
   "cell_type": "code",
   "execution_count": 18,
   "source": [
    "for item in range(10):\n",
    "    print(item)"
   ],
   "outputs": [
    {
     "output_type": "stream",
     "name": "stdout",
     "text": [
      "0\n",
      "1\n",
      "2\n",
      "3\n",
      "4\n",
      "5\n",
      "6\n",
      "7\n",
      "8\n",
      "9\n"
     ]
    }
   ],
   "metadata": {}
  },
  {
   "cell_type": "code",
   "execution_count": 20,
   "source": [
    "for item in range(5,10):\n",
    "    print(item)"
   ],
   "outputs": [
    {
     "output_type": "stream",
     "name": "stdout",
     "text": [
      "5\n",
      "6\n",
      "7\n",
      "8\n",
      "9\n"
     ]
    }
   ],
   "metadata": {}
  },
  {
   "cell_type": "code",
   "execution_count": 21,
   "source": [
    "#we can pass 2 as common difference like this\n",
    "\n",
    "for item in range(5,10,2):\n",
    "    print(item)"
   ],
   "outputs": [
    {
     "output_type": "stream",
     "name": "stdout",
     "text": [
      "5\n",
      "7\n",
      "9\n"
     ]
    }
   ],
   "metadata": {}
  },
  {
   "cell_type": "code",
   "execution_count": 2,
   "source": [
    "prices = [10 , 20 , 30]\n",
    "\n",
    "total = 0\n",
    "for price in prices:\n",
    "    total+= price\n",
    "print(f'total:{total}')"
   ],
   "outputs": [
    {
     "output_type": "stream",
     "name": "stdout",
     "text": [
      "total:60\n"
     ]
    }
   ],
   "metadata": {}
  },
  {
   "cell_type": "code",
   "execution_count": 3,
   "source": [
    " for x in range(4):\n",
    "     for y in range(3):\n",
    "         print(f'({x}, {y})')"
   ],
   "outputs": [
    {
     "output_type": "stream",
     "name": "stdout",
     "text": [
      "(0, 0)\n",
      "(0, 1)\n",
      "(0, 2)\n",
      "(1, 0)\n",
      "(1, 1)\n",
      "(1, 2)\n",
      "(2, 0)\n",
      "(2, 1)\n",
      "(2, 2)\n",
      "(3, 0)\n",
      "(3, 1)\n",
      "(3, 2)\n"
     ]
    }
   ],
   "metadata": {}
  },
  {
   "cell_type": "code",
   "execution_count": 7,
   "source": [
    "numbers=[5,2,5,2,2]\n",
    "\n",
    "for pattern in numbers:\n",
    "    print(pattern * 'x')"
   ],
   "outputs": [
    {
     "output_type": "stream",
     "name": "stdout",
     "text": [
      "xxxxx\n",
      "xx\n",
      "xxxxx\n",
      "xx\n",
      "xx\n"
     ]
    }
   ],
   "metadata": {}
  },
  {
   "cell_type": "code",
   "execution_count": 11,
   "source": [
    "names = ['Jhon', 'Bob' , 'Mosh', 'Sarah']\n",
    "print(names[2:3])\n",
    "print(names)\n",
    "names[0]='pranav'\n",
    "print(names)\n",
    "print(names[2:])"
   ],
   "outputs": [
    {
     "output_type": "stream",
     "name": "stdout",
     "text": [
      "['Mosh']\n",
      "['Jhon', 'Bob', 'Mosh', 'Sarah']\n",
      "['pranav', 'Bob', 'Mosh', 'Sarah']\n",
      "['Mosh', 'Sarah']\n"
     ]
    }
   ],
   "metadata": {}
  },
  {
   "cell_type": "code",
   "execution_count": 14,
   "source": [
    "numbers = [2,4,1,5,67,54,3]\n",
    "mx = numbers[0]\n",
    "for number in numbers:\n",
    "    if number > mx:\n",
    "        mx = number\n",
    "print(mx)\n",
    "\n"
   ],
   "outputs": [
    {
     "output_type": "stream",
     "name": "stdout",
     "text": [
      "67\n"
     ]
    }
   ],
   "metadata": {}
  },
  {
   "cell_type": "code",
   "execution_count": 17,
   "source": [
    "matrix =[ \n",
    "    [1,2,3],\n",
    "    [4,5,6],\n",
    "    [7,8,9]\n",
    "    ]\n",
    "\n",
    "for row in matrix:\n",
    "    for item in row:\n",
    "        print(item)\n"
   ],
   "outputs": [
    {
     "output_type": "stream",
     "name": "stdout",
     "text": [
      "1\n",
      "2\n",
      "3\n",
      "4\n",
      "5\n",
      "6\n",
      "7\n",
      "8\n",
      "9\n"
     ]
    }
   ],
   "metadata": {}
  },
  {
   "cell_type": "code",
   "execution_count": 26,
   "source": [
    "numbers = [5,2,1,7,4]\n",
    "\n",
    "numbers.append(20)\n",
    "\n",
    "print(numbers)\n",
    "\n",
    "numbers.insert(0, 10)\n",
    "\n",
    "print(numbers)\n",
    "\n",
    "numbers.remove(5)\n",
    "\n",
    "numbers.pop()\n",
    "\n",
    "print(numbers)\n",
    "\n",
    "print(numbers.index(10))#gives an error if failed to find\n",
    "\n",
    "print(2 in numbers)#more safe to use\n",
    "\n",
    "numbers.sort()\n",
    "\n",
    "print(numbers)\n",
    "\n",
    "numbers.reverse()\n",
    "\n",
    "print(numbers)\n",
    "\n",
    "numbers2 = numbers.copy()\n",
    "\n",
    "print(numbers2)\n"
   ],
   "outputs": [
    {
     "output_type": "stream",
     "name": "stdout",
     "text": [
      "[5, 2, 1, 7, 4, 20]\n",
      "[10, 5, 2, 1, 7, 4, 20]\n",
      "[10, 2, 1, 7, 4, 20]\n",
      "[10, 2, 1, 7, 4]\n",
      "0\n",
      "True\n",
      "[1, 2, 4, 7, 10]\n",
      "[10, 7, 4, 2, 1]\n",
      "[10, 7, 4, 2, 1]\n"
     ]
    }
   ],
   "metadata": {}
  },
  {
   "cell_type": "code",
   "execution_count": 2,
   "source": [
    "numbers=[34,23,54,23,54,4,23]\n",
    "uniques = []\n",
    "\n",
    "for number in numbers:\n",
    "\n",
    "    if number not in uniques:\n",
    "        uniques.append(number)\n",
    "\n",
    "print(uniques)\n",
    "    "
   ],
   "outputs": [
    {
     "output_type": "stream",
     "name": "stdout",
     "text": [
      "[34, 23, 54, 4]\n"
     ]
    }
   ],
   "metadata": {}
  },
  {
   "cell_type": "code",
   "execution_count": 5,
   "source": [
    "  #tupples cannot be changed its elements are closed in small parnthesis\n",
    "  numbers = (1,2,3)\n",
    "  numbers[0]= 0"
   ],
   "outputs": [],
   "metadata": {}
  },
  {
   "cell_type": "code",
   "execution_count": 3,
   "source": [
    "coordinates = (1,3,4)\n",
    " "
   ],
   "outputs": [],
   "metadata": {}
  },
  {
   "cell_type": "code",
   "execution_count": 5,
   "source": [
    "#unpacking of lists applies to all kinds of lists\n",
    "\n",
    "coordinates = (1,2,3)\n",
    "\n",
    "x,y,z = coordinates\n",
    "\n",
    "print(x)\n",
    "print(y)\n",
    "print(z)\n",
    "\n"
   ],
   "outputs": [
    {
     "output_type": "stream",
     "name": "stdout",
     "text": [
      "1\n",
      "2\n",
      "3\n"
     ]
    }
   ],
   "metadata": {}
  },
  {
   "cell_type": "code",
   "execution_count": 1,
   "source": [
    "#Dictnories\n",
    "\n",
    "customer = {\n",
    "    \"name\":\"Pranav Jaiswal\",\n",
    "    \"age\": 30,\n",
    "    \"is_verfied\": True\n",
    "}\n",
    "\n",
    "print(customer[\"name\"])\n",
    "print(customer.get(\"birthdate\",\"Aug 5 2000\"))\n",
    "#here august 5 2000 is set as default value so if birthdate is\n",
    "#not given in the dictionary is dosent output none but shows the default \n",
    "\n",
    "customer[\"birthdate\"]=\"Sept 29 2000\"\n",
    "print(customer[\"birthdate\"])\n",
    "\n",
    "#this show that we can edit the \n",
    "# dictonary later in the code if \n",
    "# we want to\n",
    "\n",
    "\n",
    "\n"
   ],
   "outputs": [
    {
     "output_type": "stream",
     "name": "stdout",
     "text": [
      "Pranav Jaiswal\n",
      "Aug 5 2000\n",
      "Sept 29 2000\n"
     ]
    }
   ],
   "metadata": {}
  },
  {
   "cell_type": "code",
   "execution_count": 6,
   "source": [
    "num=input(\"number:\")\n",
    "\n",
    "digits_mapping={\n",
    "    \"1\":\"one\",\n",
    "    \"2\":\"two\",\n",
    "    \"3\":\"three\",\n",
    "    \"4\":\"four\",\n",
    "}\n",
    "for numbers in num:\n",
    "    #print(digits_mapping[numbers])\n",
    "    output=\"\"\n",
    "    output+=digits_mapping.get(numbers,\"!\")\n",
    "    print(output)\n",
    "\n",
    "    "
   ],
   "outputs": [
    {
     "output_type": "stream",
     "name": "stdout",
     "text": [
      "one\n",
      "two\n",
      "three\n",
      "four\n",
      "!\n"
     ]
    }
   ],
   "metadata": {}
  },
  {
   "cell_type": "code",
   "execution_count": 11,
   "source": [
    "message = input(\">\")\n",
    "words = message.split(' ')\n",
    "emojis ={\n",
    "\t\":)\":\"smiley\",\n",
    "\t\":(\":\"sadly\"\n",
    "}\n",
    "output=\"\"\n",
    "for word in words:\n",
    "\toutput+=emojis.get(word,word)+\" \"\n",
    "\t#this method checks\n",
    "\t#if we have the word in the the emojis and\n",
    "\t#if we dont the thing after (,)is returne\n",
    "print(output)"
   ],
   "outputs": [
    {
     "output_type": "stream",
     "name": "stdout",
     "text": [
      "hello there  smiley \n"
     ]
    }
   ],
   "metadata": {}
  },
  {
   "cell_type": "markdown",
   "source": [
    "Funtions"
   ],
   "metadata": {}
  },
  {
   "cell_type": "code",
   "execution_count": 14,
   "source": [
    "def greet_user(first_name,last_name):\n",
    "\tprint(f'Hi {first_name} {last_name} !')\n",
    "\tprint('Welcome aboard')\n",
    "\n",
    "print('Start')\n",
    "greet_user(\"Pranav\",\"Jaiswal\")\n",
    "\n",
    "greet_user(last_name=\"jaiswal\",first_name=\"pranav\")"
   ],
   "outputs": [
    {
     "output_type": "stream",
     "name": "stdout",
     "text": [
      "Start\n",
      "Hi Pranav Jaiswal !\n",
      "Welcome aboard\n",
      "Hi pranav jaiswal !\n",
      "Welcome aboard\n"
     ]
    }
   ],
   "metadata": {}
  },
  {
   "cell_type": "code",
   "execution_count": 3,
   "source": [
    "def emoji_converter(message):\n",
    "\t\n",
    "\twords = message.split(\" \")\n",
    "\temojis = {\n",
    "\t\t\":)\": \"smiley\",\n",
    "\t\t\":(\":\"sadly\"\n",
    "\t}\n",
    "\toutput =\"\"\n",
    "\tfor word in words:\n",
    "\t\toutput +=emojis.get(word,word)+\" \"\n",
    "\treturn output\n",
    "\t\t\n",
    "\n",
    "message = input(\">\")\n",
    "print(emoji_converter(message))\n",
    "\t\n",
    "\t\n",
    "\t"
   ],
   "outputs": [
    {
     "output_type": "stream",
     "name": "stdout",
     "text": [
      "hello there smiley \n"
     ]
    }
   ],
   "metadata": {}
  },
  {
   "cell_type": "markdown",
   "source": [
    "Except cases\n"
   ],
   "metadata": {}
  },
  {
   "cell_type": "code",
   "execution_count": 7,
   "source": [
    "try:\n",
    "\tage=int(input('Age: '))\n",
    "\tincome = 20000\n",
    "\trisk = income / age\n",
    "\tprint(age)\n",
    "except ValueError:\n",
    "\tprint('Invalid value')\n",
    "except ZeroDivisionError:\n",
    "\tprint(\"age cannot be zero\")\n",
    "\t"
   ],
   "outputs": [
    {
     "output_type": "stream",
     "name": "stdout",
     "text": [
      "age cannot be zero\n"
     ]
    }
   ],
   "metadata": {}
  },
  {
   "cell_type": "markdown",
   "source": [
    "Classes"
   ],
   "metadata": {}
  },
  {
   "cell_type": "code",
   "execution_count": 10,
   "source": [
    "class Point:\n",
    "\tdef move(self):\n",
    "\t\tprint(\"move\")\n",
    "\n",
    "\tdef draw(self):\n",
    "\t\tprint(\"draw\")\n",
    "\n",
    "\n",
    "point1 = Point()\n",
    "\n",
    "point1.draw()\n",
    "\n",
    "point1.x=20\n",
    "point1.y=10\n",
    "\n",
    "point2=Point()\n",
    "\n",
    "point2.h=\"haha\"\n",
    "\n",
    "print(point1.x)\n",
    "print(point2.h)"
   ],
   "outputs": [
    {
     "output_type": "stream",
     "name": "stdout",
     "text": [
      "draw\n",
      "20\n",
      "haha\n"
     ]
    }
   ],
   "metadata": {}
  },
  {
   "cell_type": "markdown",
   "source": [
    "Constructors"
   ],
   "metadata": {}
  },
  {
   "cell_type": "code",
   "execution_count": 11,
   "source": [
    "class Coordinate:\n",
    "\tdef __init__(self,x,y):\n",
    "\t\tself.x=x\n",
    "\t\tself.y=y\n",
    "\n",
    "\n",
    "\n",
    "coor1 =Coordinate(10,30)\n",
    "\n",
    "print(coor1.x)\n",
    "print(coor1.y)"
   ],
   "outputs": [
    {
     "output_type": "stream",
     "name": "stdout",
     "text": [
      "10\n",
      "30\n"
     ]
    }
   ],
   "metadata": {}
  },
  {
   "cell_type": "code",
   "execution_count": 11,
   "source": [
    "class Person:\n",
    "\tdef __init__(self,name):\n",
    "\t\tself.name=name\n",
    "\tdef talk(self):\n",
    "\t\tprint(f\"Hi, I am {self.name}\")\n",
    "\n",
    "\n",
    "person1=Person(\"Pranav\")\n",
    "\n",
    "bruh = Person(\"Bruh\")\n",
    "\n",
    "bruh.talk()\n",
    "\n",
    "person1.talk()\n",
    "\n"
   ],
   "outputs": [
    {
     "output_type": "stream",
     "name": "stdout",
     "text": [
      "Hi, I am Bruh\n",
      "Hi, I am Pranav\n"
     ]
    }
   ],
   "metadata": {}
  },
  {
   "cell_type": "markdown",
   "source": [
    "Inhertance"
   ],
   "metadata": {}
  },
  {
   "cell_type": "code",
   "execution_count": 14,
   "source": [
    "class Mammal:\n",
    "\tdef walk(self):\n",
    "\t\tprint(\"walk\")\n",
    "\n",
    "class Dog(Mammal):\n",
    "\tdef bark(self):\n",
    "\t\tprint(\"bark\")\n",
    "\n",
    "\n",
    "class Cat(Mammal):\n",
    "\tdef be_annoying(self):\n",
    "\t\tprint(\"annoying\")\n",
    "\n",
    "dog1 =Dog()\n",
    "\n",
    "dog1.bark()\n",
    "\n",
    "dog1.walk()"
   ],
   "outputs": [
    {
     "output_type": "stream",
     "name": "stdout",
     "text": [
      "bark\n",
      "walk\n"
     ]
    }
   ],
   "metadata": {}
  },
  {
   "cell_type": "markdown",
   "source": [
    "Modules"
   ],
   "metadata": {}
  },
  {
   "cell_type": "code",
   "execution_count": 16,
   "source": [
    "from utils import find_max\n",
    "\n",
    "list=[87,85,26,97,18,9,48,98]\n",
    "print(find_max(list))"
   ],
   "outputs": [
    {
     "output_type": "stream",
     "name": "stdout",
     "text": [
      "98\n"
     ]
    }
   ],
   "metadata": {}
  },
  {
   "cell_type": "code",
   "execution_count": null,
   "source": [],
   "outputs": [],
   "metadata": {}
  },
  {
   "cell_type": "code",
   "execution_count": 19,
   "source": [
    "import utils\n",
    "\n",
    "print(utils.find_max(list))"
   ],
   "outputs": [
    {
     "output_type": "stream",
     "name": "stdout",
     "text": [
      "98\n"
     ]
    }
   ],
   "metadata": {}
  },
  {
   "cell_type": "markdown",
   "source": [
    "Packages"
   ],
   "metadata": {}
  },
  {
   "cell_type": "code",
   "execution_count": 10,
   "source": [
    "# import ecommerce.shipping\n",
    "\n",
    "# ecommerce.shipping.calc_shipping()\n",
    "\n",
    "from ecommerce.shipping import calc_shipping \n",
    "calc_shipping()"
   ],
   "outputs": [
    {
     "output_type": "stream",
     "name": "stdout",
     "text": [
      "calcute shipping\n"
     ]
    }
   ],
   "metadata": {}
  },
  {
   "cell_type": "markdown",
   "source": [
    "Generating random Values"
   ],
   "metadata": {}
  },
  {
   "cell_type": "code",
   "execution_count": 2,
   "source": [
    "import random \n",
    "for i in range(3):\n",
    "\tprint(random.randint(10,20))"
   ],
   "outputs": [
    {
     "output_type": "stream",
     "name": "stdout",
     "text": [
      "18\n",
      "15\n",
      "12\n"
     ]
    }
   ],
   "metadata": {}
  },
  {
   "cell_type": "markdown",
   "source": [
    "Printing random item from the list"
   ],
   "metadata": {}
  },
  {
   "cell_type": "code",
   "execution_count": 3,
   "source": [
    "members = ['John','Mary','Bob','Pranav']\n",
    "\n",
    "print(random.choice(members))"
   ],
   "outputs": [
    {
     "output_type": "stream",
     "name": "stdout",
     "text": [
      "Pranav\n"
     ]
    }
   ],
   "metadata": {}
  },
  {
   "cell_type": "code",
   "execution_count": 25,
   "source": [
    "class Dice:\n",
    "\tdef roll(self):\n",
    "\t\troll = (random.randint(1,6),random.randint(1,6))\n",
    "\t\treturn roll\n",
    "\t\t\n",
    "\n",
    "roll1 = Dice()\n",
    "print(roll1.roll())"
   ],
   "outputs": [
    {
     "output_type": "stream",
     "name": "stdout",
     "text": [
      "(2, 4)\n"
     ]
    }
   ],
   "metadata": {}
  },
  {
   "cell_type": "markdown",
   "source": [
    "Files And Directories"
   ],
   "metadata": {}
  },
  {
   "cell_type": "code",
   "execution_count": 2,
   "source": [
    "from pathlib import Path\n",
    "\n",
    "path=Path(\"ecommerce\")\n",
    "print(path.exists())\n",
    "\n",
    " "
   ],
   "outputs": [
    {
     "output_type": "stream",
     "name": "stdout",
     "text": [
      "True\n"
     ]
    }
   ],
   "metadata": {}
  },
  {
   "cell_type": "code",
   "execution_count": 7,
   "source": [
    "path = Path(\"here\")\n",
    "print(path.mkdir())"
   ],
   "outputs": [
    {
     "output_type": "stream",
     "name": "stdout",
     "text": [
      "None\n"
     ]
    }
   ],
   "metadata": {}
  },
  {
   "cell_type": "code",
   "execution_count": 8,
   "source": [
    "print(path.rmdir())"
   ],
   "outputs": [
    {
     "output_type": "stream",
     "name": "stdout",
     "text": [
      "None\n"
     ]
    }
   ],
   "metadata": {}
  },
  {
   "cell_type": "markdown",
   "source": [
    "To search the files in a directory"
   ],
   "metadata": {}
  },
  {
   "cell_type": "code",
   "execution_count": 5,
   "source": [
    "from pathlib import Path\n",
    "\n",
    "path = Path(\"ecommerce\")\n",
    "\n",
    "print(path.glob('*.py'))\n"
   ],
   "outputs": [
    {
     "output_type": "stream",
     "name": "stdout",
     "text": [
      "<generator object Path.glob at 0x7f5ae8606510>\n"
     ]
    }
   ],
   "metadata": {}
  },
  {
   "cell_type": "markdown",
   "source": [
    "since the function return a list we have to use for loop to itrate through it"
   ],
   "metadata": {}
  },
  {
   "cell_type": "code",
   "execution_count": 6,
   "source": [
    "for files in path.glob('*.py'):\n",
    "\tprint(files)"
   ],
   "outputs": [
    {
     "output_type": "stream",
     "name": "stdout",
     "text": [
      "ecommerce/shipping.py\n",
      "ecommerce/__init__.py\n"
     ]
    }
   ],
   "metadata": {}
  },
  {
   "cell_type": "code",
   "execution_count": 7,
   "source": [
    "for files in path.glob('*'):\n",
    "\tprint(files)"
   ],
   "outputs": [
    {
     "output_type": "stream",
     "name": "stdout",
     "text": [
      "ecommerce/shipping.py\n",
      "ecommerce/__init__.py\n",
      "ecommerce/__pycache__\n"
     ]
    }
   ],
   "metadata": {}
  },
  {
   "cell_type": "markdown",
   "source": [
    "Project on Matchine Learning\n",
    "Libraries Used:\n",
    "Numpy\n",
    "Pandas\n",
    "MatPlotLib\n",
    "Scikit-Learn"
   ],
   "metadata": {}
  },
  {
   "cell_type": "code",
   "execution_count": 1,
   "source": [],
   "outputs": [
    {
     "output_type": "stream",
     "name": "stdout",
     "text": [
      "k\n"
     ]
    }
   ],
   "metadata": {}
  }
 ],
 "metadata": {
  "kernelspec": {
   "name": "python3",
   "display_name": "Python 3.9.6 64-bit"
  },
  "language_info": {
   "codemirror_mode": {
    "name": "ipython",
    "version": 3
   },
   "file_extension": ".py",
   "mimetype": "text/x-python",
   "name": "python",
   "nbconvert_exporter": "python",
   "pygments_lexer": "ipython3",
   "version": "3.9.6"
  },
  "metadata": {
   "interpreter": {
    "hash": "916dbcbb3f70747c44a77c7bcd40155683ae19c65e1c03b4aa3499c5328201f1"
   }
  },
  "orig_nbformat": 2,
  "interpreter": {
   "hash": "0cc6cd3f10177bfac7cadd97e3a5fd990d19714a7e44a898229823c5d538e102"
  }
 },
 "nbformat": 4,
 "nbformat_minor": 2
}