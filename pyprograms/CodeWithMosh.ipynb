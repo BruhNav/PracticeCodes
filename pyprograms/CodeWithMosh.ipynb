{
 "cells": [
  {
   "cell_type": "code",
   "execution_count": 2,
   "metadata": {},
   "outputs": [
    {
     "name": "stdout",
     "output_type": "stream",
     "text": [
      "pranav[jaiswal] is a heavy driver\n"
     ]
    }
   ],
   "source": [
    "first='pranav'\n",
    "last = 'jaiswal'\n",
    "msg = f'{first}[{last}] is a heavy driver'\n",
    "print(msg)"
   ]
  },
  {
   "cell_type": "code",
   "execution_count": 3,
   "metadata": {},
   "outputs": [
    {
     "name": "stdout",
     "output_type": "stream",
     "text": [
      "20\n",
      "PYTHON FOR BEGINNERS\n",
      "Python for Beginners\n"
     ]
    }
   ],
   "source": [
    "course = 'Python for Beginners'\n",
    "print(len(course))\n",
    "print(course.upper())\n",
    "print(course)\n",
    "\n"
   ]
  },
  {
   "cell_type": "code",
   "execution_count": 17,
   "metadata": {},
   "outputs": [
    {
     "name": "stdout",
     "output_type": "stream",
     "text": [
      "python for beginners\n"
     ]
    }
   ],
   "source": [
    "print(course.lower())\n"
   ]
  },
  {
   "cell_type": "code",
   "execution_count": 4,
   "metadata": {},
   "outputs": [
    {
     "name": "stdout",
     "output_type": "stream",
     "text": [
      "11\n"
     ]
    }
   ],
   "source": [
    "print(course.find('Beginners'))"
   ]
  },
  {
   "cell_type": "code",
   "execution_count": 20,
   "metadata": {},
   "outputs": [
    {
     "name": "stdout",
     "output_type": "stream",
     "text": [
      "Python for Absoulute Beginners\n"
     ]
    }
   ],
   "source": [
    "print(course.replace('Beginners', 'Absoulute Beginners'))\n"
   ]
  },
  {
   "cell_type": "code",
   "execution_count": 21,
   "metadata": {},
   "outputs": [
    {
     "name": "stdout",
     "output_type": "stream",
     "text": [
      "True\n"
     ]
    }
   ],
   "source": [
    "print('Python' in course)"
   ]
  },
  {
   "cell_type": "code",
   "execution_count": 22,
   "metadata": {},
   "outputs": [
    {
     "name": "stdout",
     "output_type": "stream",
     "text": [
      "False\n"
     ]
    }
   ],
   "source": [
    "print('python' in course)"
   ]
  },
  {
   "cell_type": "code",
   "execution_count": 23,
   "metadata": {},
   "outputs": [
    {
     "name": "stdout",
     "output_type": "stream",
     "text": [
      "3.3333333333333335\n",
      "3\n"
     ]
    }
   ],
   "source": [
    "print(10/3)\n",
    "print(10//3)"
   ]
  },
  {
   "cell_type": "code",
   "execution_count": 24,
   "metadata": {},
   "outputs": [
    {
     "name": "stdout",
     "output_type": "stream",
     "text": [
      "30\n",
      "1000\n"
     ]
    }
   ],
   "source": [
    "print(10*3)\n",
    "print(10**3)"
   ]
  },
  {
   "cell_type": "code",
   "execution_count": null,
   "metadata": {},
   "outputs": [
    {
     "name": "stdout",
     "output_type": "stream",
     "text": [
      "3\n"
     ]
    }
   ],
   "source": [
    "x=2.9\n",
    "\n",
    "print(round(x))"
   ]
  },
  {
   "cell_type": "code",
   "execution_count": 26,
   "metadata": {},
   "outputs": [
    {
     "name": "stdout",
     "output_type": "stream",
     "text": [
      "2.9\n"
     ]
    }
   ],
   "source": [
    "print(abs(-x))"
   ]
  },
  {
   "cell_type": "code",
   "execution_count": 27,
   "metadata": {},
   "outputs": [
    {
     "name": "stdout",
     "output_type": "stream",
     "text": [
      "3\n",
      "2\n"
     ]
    }
   ],
   "source": [
    "import math\n",
    "print(math.ceil(2.9))\n",
    "print(math.floor(2.9))"
   ]
  },
  {
   "cell_type": "code",
   "execution_count": 5,
   "metadata": {},
   "outputs": [
    {
     "name": "stdout",
     "output_type": "stream",
     "text": [
      "its a cold day \n",
      "wear warm clothes\n"
     ]
    }
   ],
   "source": [
    "###if else statments\n",
    "\n",
    "is_hot = False\n",
    "\n",
    "if is_hot:\n",
    "     print(\"It's a hot day\")\n",
    "     print(\"Drink pleanty of water\")\n",
    "else:\n",
    "    print(\"its a cold day \")\n",
    "    print(\"wear warm clothes\")\n"
   ]
  },
  {
   "cell_type": "code",
   "execution_count": 31,
   "metadata": {},
   "outputs": [
    {
     "name": "stdout",
     "output_type": "stream",
     "text": [
      "Enjoy your day\n"
     ]
    }
   ],
   "source": [
    "is_hot = False\n",
    "\n",
    "if is_hot:\n",
    "     print(\"It's a hot day\")\n",
    "     print(\"Drink plenty of water\")\n",
    "print(\"Enjoy your day\")"
   ]
  },
  {
   "cell_type": "code",
   "execution_count": 34,
   "metadata": {},
   "outputs": [
    {
     "name": "stdout",
     "output_type": "stream",
     "text": [
      "its a cold day \n",
      "wear warm clothes\n",
      "enjoy your day\n"
     ]
    }
   ],
   "source": [
    "is_hot = False\n",
    "is_cold = True\n",
    "\n",
    "if is_hot:\n",
    "     print(\"It's a hot day\")\n",
    "     print(\"Drink pleanty of water\")\n",
    "elif is_cold:\n",
    "    print(\"its a cold day \")\n",
    "    print(\"wear warm clothes\")\n",
    "else: \n",
    "    print(\"its a lovely day\")\n",
    "\n",
    "print(\"enjoy your day\")\n"
   ]
  },
  {
   "cell_type": "code",
   "execution_count": 37,
   "metadata": {},
   "outputs": [
    {
     "name": "stdout",
     "output_type": "stream",
     "text": [
      "down payment:$100000.0\n"
     ]
    }
   ],
   "source": [
    "price = 1000000\n",
    "has_good_credit = True \n",
    "if has_good_credit :\n",
    "    down_payment = .1 * price\n",
    "else:\n",
    "    down_payment = .2 *price  \n",
    "print(f\"down payment:${down_payment}\")"
   ]
  },
  {
   "cell_type": "code",
   "execution_count": 38,
   "metadata": {},
   "outputs": [
    {
     "name": "stdout",
     "output_type": "stream",
     "text": [
      "Eligible for loan\n"
     ]
    }
   ],
   "source": [
    "# and or operators\n",
    "\n",
    "has_high_income = True\n",
    "has_good_credit = True\n",
    "\n",
    "if has_high_income and has_good_credit:\n",
    "    print(\"Eligible for loan\")"
   ]
  },
  {
   "cell_type": "code",
   "execution_count": 42,
   "metadata": {},
   "outputs": [
    {
     "name": "stdout",
     "output_type": "stream",
     "text": [
      "Eligible for loan\n"
     ]
    }
   ],
   "source": [
    "has_high_income = True\n",
    "has_good_credit = True\n",
    "\n",
    "if has_high_income or has_good_credit:\n",
    "    print(\"Eligible for loan\")"
   ]
  },
  {
   "cell_type": "code",
   "execution_count": 1,
   "metadata": {},
   "outputs": [
    {
     "name": "stdout",
     "output_type": "stream",
     "text": [
      "Its not a hot day\n"
     ]
    }
   ],
   "source": [
    "#conditional operators\n",
    "\n",
    "temperature = 30\n",
    "\n",
    "if temperature > 30:\n",
    "    print(\"Its a hot day\")\n",
    "else:\n",
    "    print(\"Its not a hot day\")"
   ]
  },
  {
   "cell_type": "code",
   "execution_count": 2,
   "metadata": {},
   "outputs": [
    {
     "name": "stdout",
     "output_type": "stream",
     "text": [
      "the name looks good\n"
     ]
    }
   ],
   "source": [
    "name=\"pranav\"\n",
    "\n",
    "if len(name) < 3:\n",
    "    print(\"the name must be at least 3 characters\")\n",
    "elif len(name)>50:\n",
    "    print(\"the name must be maximum 50 characters\")\n",
    "else :\n",
    "    print(\"the name looks good\")\n"
   ]
  },
  {
   "cell_type": "code",
   "execution_count": 6,
   "metadata": {},
   "outputs": [
    {
     "name": "stdout",
     "output_type": "stream",
     "text": [
      "63.63636363636363kilos\n"
     ]
    }
   ],
   "source": [
    "#mini project\n",
    "\n",
    "w = float(input(\"Weight: \"))\n",
    "d = input(\"(L)bs or (K)g\")\n",
    "\n",
    "if d == 'L' or d=='l':\n",
    "    w /= 2.2\n",
    "    print(f'{w}kilos')\n",
    "else :\n",
    "    w*= 2.2\n",
    "    print(f'{w} pounds')\n",
    "\n"
   ]
  },
  {
   "cell_type": "code",
   "execution_count": 8,
   "metadata": {},
   "outputs": [
    {
     "name": "stdout",
     "output_type": "stream",
     "text": [
      "*\n",
      "**\n",
      "***\n",
      "****\n",
      "*****\n",
      "Done\n"
     ]
    }
   ],
   "source": [
    "#while loops\n",
    "\n",
    "i = 1\n",
    "while i<=5:\n",
    "    print('*' * i)\n",
    "    i=i+1\n",
    "print(\"Done\")"
   ]
  },
  {
   "cell_type": "code",
   "execution_count": 6,
   "metadata": {},
   "outputs": [
    {
     "name": "stdout",
     "output_type": "stream",
     "text": [
      "you guessed it right\n"
     ]
    }
   ],
   "source": [
    "secret_number = 9\n",
    "guess_count = 0\n",
    "guess_limit = 3\n",
    "while guess_count < guess_limit:\n",
    "    guess = int(input('Guess: '))\n",
    "    guess_count +=1\n",
    "    if secret_number == guess:\n",
    "        print(\"you guessed it right\")\n",
    "        break\n",
    "else: \n",
    "    print('sorry you failed')\n",
    "    #this part will only execute if the while loop was\n",
    "    #sucessfully completed if the break statement was executed\n",
    "    #this else will not happen\n"
   ]
  },
  {
   "cell_type": "code",
   "execution_count": 15,
   "metadata": {},
   "outputs": [
    {
     "name": "stdout",
     "output_type": "stream",
     "text": [
      " Car started...\n",
      "Car stopped\n",
      "Car is already stopped\n",
      " Car started...\n",
      " Car is already started...\n"
     ]
    }
   ],
   "source": [
    "command = \"\"\n",
    "status = False\n",
    "\n",
    "while True:\n",
    "    command = input(\"> \").lower()\n",
    "    if command == \"start\" and status == False:\n",
    "        print(\" Car started...\")\n",
    "        status = True\n",
    "    elif command == \"start\":\n",
    "        print(\" Car is already started...\")\n",
    "    elif command == \"stop\" and status == True:\n",
    "        print(\"Car stopped\")\n",
    "        status = False\n",
    "    elif command == \"stop\" :\n",
    "        print(\"Car is already stopped\")\n",
    "    elif command == \"help\":\n",
    "        print('''start - to start the car\n",
    "stop - to stop the car\n",
    "quit - to exit''' )\n",
    "    elif command == \"quit\":\n",
    "        break\n",
    "    else:\n",
    "        print(\"sorry i dont understand that\")\n"
   ]
  },
  {
   "cell_type": "code",
   "execution_count": 17,
   "metadata": {},
   "outputs": [
    {
     "name": "stdout",
     "output_type": "stream",
     "text": [
      "q\n",
      "t\n",
      "w\n",
      "t\n",
      "d\n",
      "s\n"
     ]
    }
   ],
   "source": [
    "for item in ['q','t','w','t','d','s']:\n",
    "    print(item)\n"
   ]
  },
  {
   "cell_type": "code",
   "execution_count": 18,
   "metadata": {},
   "outputs": [
    {
     "name": "stdout",
     "output_type": "stream",
     "text": [
      "0\n",
      "1\n",
      "2\n",
      "3\n",
      "4\n",
      "5\n",
      "6\n",
      "7\n",
      "8\n",
      "9\n"
     ]
    }
   ],
   "source": [
    "for item in range(10):\n",
    "    print(item)"
   ]
  },
  {
   "cell_type": "code",
   "execution_count": 20,
   "metadata": {},
   "outputs": [
    {
     "name": "stdout",
     "output_type": "stream",
     "text": [
      "5\n",
      "6\n",
      "7\n",
      "8\n",
      "9\n"
     ]
    }
   ],
   "source": [
    "for item in range(5,10):\n",
    "    print(item)"
   ]
  },
  {
   "cell_type": "code",
   "execution_count": 21,
   "metadata": {},
   "outputs": [
    {
     "name": "stdout",
     "output_type": "stream",
     "text": [
      "5\n",
      "7\n",
      "9\n"
     ]
    }
   ],
   "source": [
    "#we can pass 2 as common difference like this\n",
    "\n",
    "for item in range(5,10,2):\n",
    "    print(item)"
   ]
  },
  {
   "cell_type": "code",
   "execution_count": 2,
   "metadata": {},
   "outputs": [
    {
     "name": "stdout",
     "output_type": "stream",
     "text": [
      "total:60\n"
     ]
    }
   ],
   "source": [
    "prices = [10 , 20 , 30]\n",
    "\n",
    "total = 0\n",
    "for price in prices:\n",
    "    total+= price\n",
    "print(f'total:{total}')"
   ]
  },
  {
   "cell_type": "code",
   "execution_count": 3,
   "metadata": {},
   "outputs": [
    {
     "name": "stdout",
     "output_type": "stream",
     "text": [
      "(0, 0)\n",
      "(0, 1)\n",
      "(0, 2)\n",
      "(1, 0)\n",
      "(1, 1)\n",
      "(1, 2)\n",
      "(2, 0)\n",
      "(2, 1)\n",
      "(2, 2)\n",
      "(3, 0)\n",
      "(3, 1)\n",
      "(3, 2)\n"
     ]
    }
   ],
   "source": [
    " for x in range(4):\n",
    "     for y in range(3):\n",
    "         print(f'({x}, {y})')"
   ]
  },
  {
   "cell_type": "code",
   "execution_count": 7,
   "metadata": {},
   "outputs": [
    {
     "name": "stdout",
     "output_type": "stream",
     "text": [
      "xxxxx\n",
      "xx\n",
      "xxxxx\n",
      "xx\n",
      "xx\n"
     ]
    }
   ],
   "source": [
    "numbers=[5,2,5,2,2]\n",
    "\n",
    "for pattern in numbers:\n",
    "    print(pattern * 'x')"
   ]
  },
  {
   "cell_type": "code",
   "execution_count": 11,
   "metadata": {},
   "outputs": [
    {
     "name": "stdout",
     "output_type": "stream",
     "text": [
      "['Mosh']\n",
      "['Jhon', 'Bob', 'Mosh', 'Sarah']\n",
      "['pranav', 'Bob', 'Mosh', 'Sarah']\n",
      "['Mosh', 'Sarah']\n"
     ]
    }
   ],
   "source": [
    "names = ['Jhon', 'Bob' , 'Mosh', 'Sarah']\n",
    "print(names[2:3])\n",
    "print(names)\n",
    "names[0]='pranav'\n",
    "print(names)\n",
    "print(names[2:])"
   ]
  },
  {
   "cell_type": "code",
   "execution_count": 14,
   "metadata": {},
   "outputs": [
    {
     "name": "stdout",
     "output_type": "stream",
     "text": [
      "67\n"
     ]
    }
   ],
   "source": [
    "numbers = [2,4,1,5,67,54,3]\n",
    "mx = numbers[0]\n",
    "for number in numbers:\n",
    "    if number > mx:\n",
    "        mx = number\n",
    "print(mx)\n",
    "\n"
   ]
  },
  {
   "cell_type": "code",
   "execution_count": 17,
   "metadata": {},
   "outputs": [
    {
     "name": "stdout",
     "output_type": "stream",
     "text": [
      "1\n",
      "2\n",
      "3\n",
      "4\n",
      "5\n",
      "6\n",
      "7\n",
      "8\n",
      "9\n"
     ]
    }
   ],
   "source": [
    "matrix =[ \n",
    "    [1,2,3],\n",
    "    [4,5,6],\n",
    "    [7,8,9]\n",
    "    ]\n",
    "\n",
    "for row in matrix:\n",
    "    for item in row:\n",
    "        print(item)\n"
   ]
  },
  {
   "cell_type": "code",
   "execution_count": 26,
   "metadata": {},
   "outputs": [
    {
     "name": "stdout",
     "output_type": "stream",
     "text": [
      "[5, 2, 1, 7, 4, 20]\n",
      "[10, 5, 2, 1, 7, 4, 20]\n",
      "[10, 2, 1, 7, 4, 20]\n",
      "[10, 2, 1, 7, 4]\n",
      "0\n",
      "True\n",
      "[1, 2, 4, 7, 10]\n",
      "[10, 7, 4, 2, 1]\n",
      "[10, 7, 4, 2, 1]\n"
     ]
    }
   ],
   "source": [
    "numbers = [5,2,1,7,4]\n",
    "\n",
    "numbers.append(20)\n",
    "\n",
    "print(numbers)\n",
    "\n",
    "numbers.insert(0, 10)\n",
    "\n",
    "print(numbers)\n",
    "\n",
    "numbers.remove(5)\n",
    "\n",
    "numbers.pop()\n",
    "\n",
    "print(numbers)\n",
    "\n",
    "print(numbers.index(10))#gives an error if failed to find\n",
    "\n",
    "print(2 in numbers)#more safe to use\n",
    "\n",
    "numbers.sort()\n",
    "\n",
    "print(numbers)\n",
    "\n",
    "numbers.reverse()\n",
    "\n",
    "print(numbers)\n",
    "\n",
    "numbers2 = numbers.copy()\n",
    "\n",
    "print(numbers2)\n"
   ]
  },
  {
   "cell_type": "code",
   "execution_count": 2,
   "metadata": {},
   "outputs": [
    {
     "name": "stdout",
     "output_type": "stream",
     "text": [
      "[34, 23, 54, 4]\n"
     ]
    }
   ],
   "source": [
    "numbers=[34,23,54,23,54,4,23]\n",
    "uniques = []\n",
    "\n",
    "for number in numbers:\n",
    "\n",
    "    if number not in uniques:\n",
    "        uniques.append(number)\n",
    "\n",
    "print(uniques)\n",
    "    "
   ]
  },
  {
   "cell_type": "code",
   "execution_count": 5,
   "metadata": {},
   "outputs": [],
   "source": [
    "  #tupples cannot be changed its elements are closed in small parnthesis\n",
    "  numbers = (1,2,3)\n",
    "  numbers[0]= 0"
   ]
  },
  {
   "cell_type": "code",
   "execution_count": 3,
   "metadata": {},
   "outputs": [],
   "source": [
    "coordinates = (1,3,4)\n",
    " "
   ]
  },
  {
   "cell_type": "code",
   "execution_count": 5,
   "metadata": {},
   "outputs": [
    {
     "name": "stdout",
     "output_type": "stream",
     "text": [
      "1\n",
      "2\n",
      "3\n"
     ]
    }
   ],
   "source": [
    "#unpacking of lists applies to all kinds of lists\n",
    "\n",
    "coordinates = (1,2,3)\n",
    "\n",
    "x,y,z = coordinates\n",
    "\n",
    "print(x)\n",
    "print(y)\n",
    "print(z)\n",
    "\n"
   ]
  },
  {
   "cell_type": "code",
   "execution_count": 1,
   "metadata": {},
   "outputs": [
    {
     "name": "stdout",
     "output_type": "stream",
     "text": [
      "Pranav Jaiswal\n",
      "Aug 5 2000\n",
      "Sept 29 2000\n"
     ]
    }
   ],
   "source": [
    "#Dictnories\n",
    "\n",
    "customer = {\n",
    "    \"name\":\"Pranav Jaiswal\",\n",
    "    \"age\": 30,\n",
    "    \"is_verfied\": True\n",
    "}\n",
    "\n",
    "print(customer[\"name\"])\n",
    "print(customer.get(\"birthdate\",\"Aug 5 2000\"))\n",
    "#here august 5 2000 is set as default value so if birthdate is\n",
    "#not given in the dictionary is dosent output none but shows the default \n",
    "\n",
    "customer[\"birthdate\"]=\"Sept 29 2000\"\n",
    "print(customer[\"birthdate\"])\n",
    "\n",
    "#this show that we can edit the \n",
    "# dictonary later in the code if \n",
    "# we want to\n",
    "\n",
    "\n",
    "\n"
   ]
  },
  {
   "cell_type": "code",
   "execution_count": 6,
   "metadata": {},
   "outputs": [
    {
     "name": "stdout",
     "output_type": "stream",
     "text": [
      "one\n",
      "two\n",
      "three\n",
      "four\n",
      "!\n"
     ]
    }
   ],
   "source": [
    "num=input(\"number:\")\n",
    "\n",
    "digits_mapping={\n",
    "    \"1\":\"one\",\n",
    "    \"2\":\"two\",\n",
    "    \"3\":\"three\",\n",
    "    \"4\":\"four\",\n",
    "}\n",
    "for numbers in num:\n",
    "    #print(digits_mapping[numbers])\n",
    "    output=\"\"\n",
    "    output+=digits_mapping.get(numbers,\"!\")\n",
    "    print(output)\n",
    "\n",
    "    "
   ]
  },
  {
   "cell_type": "code",
   "execution_count": 11,
   "metadata": {},
   "outputs": [
    {
     "name": "stdout",
     "output_type": "stream",
     "text": [
      "hello there  smiley \n"
     ]
    }
   ],
   "source": [
    "message = input(\">\")\n",
    "words = message.split(' ')\n",
    "emojis ={\n",
    "\t\":)\":\"smiley\",\n",
    "\t\":(\":\"sadly\"\n",
    "}\n",
    "output=\"\"\n",
    "for word in words:\n",
    "\toutput+=emojis.get(word,word)+\" \"\n",
    "\t#this method checks\n",
    "\t#if we have the word in the the emojis and\n",
    "\t#if we dont the thing after (,)is returne\n",
    "print(output)"
   ]
  },
  {
   "cell_type": "markdown",
   "metadata": {},
   "source": [
    "Funtions"
   ]
  },
  {
   "cell_type": "code",
   "execution_count": 14,
   "metadata": {},
   "outputs": [
    {
     "name": "stdout",
     "output_type": "stream",
     "text": [
      "Start\n",
      "Hi Pranav Jaiswal !\n",
      "Welcome aboard\n",
      "Hi pranav jaiswal !\n",
      "Welcome aboard\n"
     ]
    }
   ],
   "source": [
    "def greet_user(first_name,last_name):\n",
    "\tprint(f'Hi {first_name} {last_name} !')\n",
    "\tprint('Welcome aboard')\n",
    "\n",
    "print('Start')\n",
    "greet_user(\"Pranav\",\"Jaiswal\")\n",
    "\n",
    "greet_user(last_name=\"jaiswal\",first_name=\"pranav\")"
   ]
  },
  {
   "cell_type": "code",
   "execution_count": 3,
   "metadata": {},
   "outputs": [
    {
     "name": "stdout",
     "output_type": "stream",
     "text": [
      "hello there smiley \n"
     ]
    }
   ],
   "source": [
    "def emoji_converter(message):\n",
    "\t\n",
    "\twords = message.split(\" \")\n",
    "\temojis = {\n",
    "\t\t\":)\": \"smiley\",\n",
    "\t\t\":(\":\"sadly\"\n",
    "\t}\n",
    "\toutput =\"\"\n",
    "\tfor word in words:\n",
    "\t\toutput +=emojis.get(word,word)+\" \"\n",
    "\treturn output\n",
    "\t\t\n",
    "\n",
    "message = input(\">\")\n",
    "print(emoji_converter(message))\n",
    "\t\n",
    "\t\n",
    "\t"
   ]
  },
  {
   "cell_type": "markdown",
   "metadata": {},
   "source": [
    "Except cases\n"
   ]
  },
  {
   "cell_type": "code",
   "execution_count": 7,
   "metadata": {},
   "outputs": [
    {
     "name": "stdout",
     "output_type": "stream",
     "text": [
      "age cannot be zero\n"
     ]
    }
   ],
   "source": [
    "try:\n",
    "\tage=int(input('Age: '))\n",
    "\tincome = 20000\n",
    "\trisk = income / age\n",
    "\tprint(age)\n",
    "except ValueError:\n",
    "\tprint('Invalid value')\n",
    "except ZeroDivisionError:\n",
    "\tprint(\"age cannot be zero\")\n",
    "\t"
   ]
  },
  {
   "cell_type": "markdown",
   "metadata": {},
   "source": [
    "Classes"
   ]
  },
  {
   "cell_type": "code",
   "execution_count": 10,
   "metadata": {},
   "outputs": [
    {
     "name": "stdout",
     "output_type": "stream",
     "text": [
      "draw\n",
      "20\n",
      "haha\n"
     ]
    }
   ],
   "source": [
    "class Point:\n",
    "\tdef move(self):\n",
    "\t\tprint(\"move\")\n",
    "\n",
    "\tdef draw(self):\n",
    "\t\tprint(\"draw\")\n",
    "\n",
    "\n",
    "point1 = Point()\n",
    "\n",
    "point1.draw()\n",
    "\n",
    "point1.x=20\n",
    "point1.y=10\n",
    "\n",
    "point2=Point()\n",
    "\n",
    "point2.h=\"haha\"\n",
    "\n",
    "print(point1.x)\n",
    "print(point2.h)"
   ]
  },
  {
   "cell_type": "markdown",
   "metadata": {},
   "source": [
    "Constructors"
   ]
  },
  {
   "cell_type": "code",
   "execution_count": 11,
   "metadata": {},
   "outputs": [
    {
     "name": "stdout",
     "output_type": "stream",
     "text": [
      "10\n",
      "30\n"
     ]
    }
   ],
   "source": [
    "class Coordinate:\n",
    "\tdef __init__(self,x,y):\n",
    "\t\tself.x=x\n",
    "\t\tself.y=y\n",
    "\n",
    "\n",
    "\n",
    "coor1 =Coordinate(10,30)\n",
    "\n",
    "print(coor1.x)\n",
    "print(coor1.y)"
   ]
  },
  {
   "cell_type": "code",
   "execution_count": 11,
   "metadata": {},
   "outputs": [
    {
     "name": "stdout",
     "output_type": "stream",
     "text": [
      "Hi, I am Bruh\n",
      "Hi, I am Pranav\n"
     ]
    }
   ],
   "source": [
    "class Person:\n",
    "\tdef __init__(self,name):\n",
    "\t\tself.name=name\n",
    "\tdef talk(self):\n",
    "\t\tprint(f\"Hi, I am {self.name}\")\n",
    "\n",
    "\n",
    "person1=Person(\"Pranav\")\n",
    "\n",
    "bruh = Person(\"Bruh\")\n",
    "\n",
    "bruh.talk()\n",
    "\n",
    "person1.talk()\n",
    "\n"
   ]
  },
  {
   "cell_type": "markdown",
   "metadata": {},
   "source": [
    "Inhertance"
   ]
  },
  {
   "cell_type": "code",
   "execution_count": 14,
   "metadata": {},
   "outputs": [
    {
     "name": "stdout",
     "output_type": "stream",
     "text": [
      "bark\n",
      "walk\n"
     ]
    }
   ],
   "source": [
    "class Mammal:\n",
    "\tdef walk(self):\n",
    "\t\tprint(\"walk\")\n",
    "\n",
    "class Dog(Mammal):\n",
    "\tdef bark(self):\n",
    "\t\tprint(\"bark\")\n",
    "\n",
    "\n",
    "class Cat(Mammal):\n",
    "\tdef be_annoying(self):\n",
    "\t\tprint(\"annoying\")\n",
    "\n",
    "dog1 =Dog()\n",
    "\n",
    "dog1.bark()\n",
    "\n",
    "dog1.walk()"
   ]
  },
  {
   "cell_type": "markdown",
   "metadata": {},
   "source": [
    "Modules"
   ]
  },
  {
   "cell_type": "code",
   "execution_count": 16,
   "metadata": {},
   "outputs": [
    {
     "name": "stdout",
     "output_type": "stream",
     "text": [
      "98\n"
     ]
    }
   ],
   "source": [
    "from utils import find_max\n",
    "\n",
    "list=[87,85,26,97,18,9,48,98]\n",
    "print(find_max(list))"
   ]
  },
  {
   "cell_type": "code",
   "execution_count": null,
   "metadata": {},
   "outputs": [],
   "source": []
  },
  {
   "cell_type": "code",
   "execution_count": 19,
   "metadata": {},
   "outputs": [
    {
     "name": "stdout",
     "output_type": "stream",
     "text": [
      "98\n"
     ]
    }
   ],
   "source": [
    "import utils\n",
    "\n",
    "print(utils.find_max(list))"
   ]
  },
  {
   "cell_type": "markdown",
   "metadata": {},
   "source": [
    "Packages"
   ]
  },
  {
   "cell_type": "code",
   "execution_count": 10,
   "metadata": {},
   "outputs": [
    {
     "name": "stdout",
     "output_type": "stream",
     "text": [
      "calcute shipping\n"
     ]
    }
   ],
   "source": [
    "# import ecommerce.shipping\n",
    "\n",
    "# ecommerce.shipping.calc_shipping()\n",
    "\n",
    "from ecommerce.shipping import calc_shipping \n",
    "calc_shipping()"
   ]
  },
  {
   "cell_type": "markdown",
   "metadata": {},
   "source": [
    "Generating random Values"
   ]
  },
  {
   "cell_type": "code",
   "execution_count": 2,
   "metadata": {},
   "outputs": [
    {
     "name": "stdout",
     "output_type": "stream",
     "text": [
      "18\n",
      "15\n",
      "12\n"
     ]
    }
   ],
   "source": [
    "import random \n",
    "for i in range(3):\n",
    "\tprint(random.randint(10,20))"
   ]
  },
  {
   "cell_type": "markdown",
   "metadata": {},
   "source": [
    "Printing random item from the list"
   ]
  },
  {
   "cell_type": "code",
   "execution_count": 3,
   "metadata": {},
   "outputs": [
    {
     "name": "stdout",
     "output_type": "stream",
     "text": [
      "Pranav\n"
     ]
    }
   ],
   "source": [
    "members = ['John','Mary','Bob','Pranav']\n",
    "\n",
    "print(random.choice(members))"
   ]
  },
  {
   "cell_type": "code",
   "execution_count": 25,
   "metadata": {},
   "outputs": [
    {
     "name": "stdout",
     "output_type": "stream",
     "text": [
      "(2, 4)\n"
     ]
    }
   ],
   "source": [
    "class Dice:\n",
    "\tdef roll(self):\n",
    "\t\troll = (random.randint(1,6),random.randint(1,6))\n",
    "\t\treturn roll\n",
    "\t\t\n",
    "\n",
    "roll1 = Dice()\n",
    "print(roll1.roll())"
   ]
  },
  {
   "cell_type": "markdown",
   "metadata": {},
   "source": [
    "Files And Directories"
   ]
  },
  {
   "cell_type": "code",
   "execution_count": 2,
   "metadata": {},
   "outputs": [
    {
     "name": "stdout",
     "output_type": "stream",
     "text": [
      "True\n"
     ]
    }
   ],
   "source": [
    "from pathlib import Path\n",
    "\n",
    "path=Path(\"ecommerce\")\n",
    "print(path.exists())\n",
    "\n",
    " "
   ]
  },
  {
   "cell_type": "code",
   "execution_count": 7,
   "metadata": {},
   "outputs": [
    {
     "name": "stdout",
     "output_type": "stream",
     "text": [
      "None\n"
     ]
    }
   ],
   "source": [
    "path = Path(\"here\")\n",
    "print(path.mkdir())"
   ]
  },
  {
   "cell_type": "code",
   "execution_count": 8,
   "metadata": {},
   "outputs": [
    {
     "name": "stdout",
     "output_type": "stream",
     "text": [
      "None\n"
     ]
    }
   ],
   "source": [
    "print(path.rmdir())"
   ]
  },
  {
   "cell_type": "markdown",
   "metadata": {},
   "source": [
    "To search the files in a directory"
   ]
  },
  {
   "cell_type": "code",
   "execution_count": 5,
   "metadata": {},
   "outputs": [
    {
     "name": "stdout",
     "output_type": "stream",
     "text": [
      "<generator object Path.glob at 0x7f5ae8606510>\n"
     ]
    }
   ],
   "source": [
    "from pathlib import Path\n",
    "\n",
    "path = Path(\"ecommerce\")\n",
    "\n",
    "print(path.glob('*.py'))\n"
   ]
  },
  {
   "cell_type": "markdown",
   "metadata": {},
   "source": [
    "since the function return a list we have to use for loop to itrate through it"
   ]
  },
  {
   "cell_type": "code",
   "execution_count": 6,
   "metadata": {},
   "outputs": [
    {
     "name": "stdout",
     "output_type": "stream",
     "text": [
      "ecommerce/shipping.py\n",
      "ecommerce/__init__.py\n"
     ]
    }
   ],
   "source": [
    "for files in path.glob('*.py'):\n",
    "\tprint(files)"
   ]
  },
  {
   "cell_type": "code",
   "execution_count": 7,
   "metadata": {},
   "outputs": [
    {
     "name": "stdout",
     "output_type": "stream",
     "text": [
      "ecommerce/shipping.py\n",
      "ecommerce/__init__.py\n",
      "ecommerce/__pycache__\n"
     ]
    }
   ],
   "source": [
    "for files in path.glob('*'):\n",
    "\tprint(files)"
   ]
  },
  {
   "cell_type": "markdown",
   "metadata": {},
   "source": [
    "Project on Matchine Learning\n",
    "Libraries Used:\n",
    "Numpy\n",
    "Pandas\n",
    "MatPlotLib\n",
    "Scikit-Learn"
   ]
  },
  {
   "cell_type": "code",
   "execution_count": 1,
   "metadata": {},
   "outputs": [
    {
     "name": "stdout",
     "output_type": "stream",
     "text": [
      "k\n"
     ]
    }
   ],
   "source": []
  }
 ],
 "metadata": {
  "interpreter": {
   "hash": "0cc6cd3f10177bfac7cadd97e3a5fd990d19714a7e44a898229823c5d538e102"
  },
  "kernelspec": {
   "display_name": "Python 3.9.6 64-bit",
   "name": "python3"
  },
  "language_info": {
   "codemirror_mode": {
    "name": "ipython",
    "version": 3
   },
   "file_extension": ".py",
   "mimetype": "text/x-python",
   "name": "python",
   "nbconvert_exporter": "python",
   "pygments_lexer": "ipython3",
   "version": "3.10.1"
  },
  "metadata": {
   "interpreter": {
    "hash": "916dbcbb3f70747c44a77c7bcd40155683ae19c65e1c03b4aa3499c5328201f1"
   }
  },
  "orig_nbformat": 2
 },
 "nbformat": 4,
 "nbformat_minor": 2
}
